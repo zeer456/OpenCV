{
 "cells": [
  {
   "cell_type": "code",
   "execution_count": null,
   "metadata": {
    "id": "69jGjua3X5vp"
   },
   "outputs": [],
   "source": [
    "import cv2\n",
    "import numpy as np\n",
    "import os\n"
   ]
  },
  {
   "cell_type": "markdown",
   "metadata": {},
   "source": [
    "# Capture Images"
   ]
  },
  {
   "cell_type": "code",
   "execution_count": null,
   "metadata": {
    "id": "b6lQfpgjX5vu"
   },
   "outputs": [],
   "source": [
    "cam=cv2.VideoCapture(0)\n",
    "i=1\n",
    "while True:\n",
    "    outfr,captur=cam.read()\n",
    "    if outfr==False:\n",
    "        break    \n",
    "    cv2.imshow('Output',captur)\n",
    "    if cv2.waitKey(1)==13:\n",
    "        break\n",
    "    elif cv2.waitKey(32)==ord(' '):\n",
    "        cv2.imwrite(str(i)+'.jpg',captur)\n",
    "        i+=1\n",
    "        print('Captured')\n",
    "    else:\n",
    "        continue\n",
    "cv2.destroyAllWindows()\n",
    "\n",
    "cam.release()"
   ]
  },
  {
   "cell_type": "code",
   "execution_count": null,
   "metadata": {
    "id": "hJIFFz9eX5vv"
   },
   "outputs": [],
   "source": [
    "cube_sz=25   \n",
    "pointob = np.zeros((6*9,3), np.float32)\n",
    "pointob[:,:2] = np.mgrid[0:9,0:6].T.reshape(-1,2)*cube_sz"
   ]
  },
  {
   "cell_type": "code",
   "execution_count": null,
   "metadata": {
    "id": "1K50Vh3vX5vv"
   },
   "outputs": [],
   "source": [
    "objarr=[]  \n",
    "imgarr=[] "
   ]
  },
  {
   "cell_type": "markdown",
   "metadata": {},
   "source": [
    "# Identify Edges of Chessboard"
   ]
  },
  {
   "cell_type": "code",
   "execution_count": null,
   "metadata": {
    "id": "irAOL247X5vw"
   },
   "outputs": [],
   "source": [
    "def identify_edge(image):\n",
    "    gray=cv2.cvtColor(image,cv2.COLOR_BGR2GRAY)\n",
    "    ret,edge=cv2.findChessboardCorners(gray,(9,6),None)\n",
    "    if ret == True:\n",
    "        objarr.append(pointob)\n",
    "        imgarr.append(edge)\n",
    "        img = cv2.drawChessboardCorners(image, (9,6), edge,ret)\n",
    "        return img\n",
    "    else:\n",
    "        return image"
   ]
  },
  {
   "cell_type": "markdown",
   "metadata": {},
   "source": [
    "# Through Images"
   ]
  },
  {
   "cell_type": "code",
   "execution_count": null,
   "metadata": {
    "colab": {
     "base_uri": "https://localhost:8080/",
     "height": 1000
    },
    "id": "JRxLgx7RX5vx",
    "outputId": "04e6cd1a-9418-4439-f7a7-4f6e5095684b"
   },
   "outputs": [],
   "source": [
    "fl_img=os.listdir('images')\n",
    "path=os.getcwd()\n",
    "for i in fl_img:\n",
    "    path1=os.path.join(path,'images',i)\n",
    "    image=cv2.imread(path1)\n",
    "    im=identify_edge(image)\n",
    "    cv2.imshow('out',image)\n",
    "    cv2.waitKey(0)\n",
    "cv2.destroyAllWindows()"
   ]
  },
  {
   "cell_type": "markdown",
   "metadata": {},
   "source": [
    "# Through Video"
   ]
  },
  {
   "cell_type": "code",
   "execution_count": null,
   "metadata": {
    "id": "9T5gFe6UX5vy"
   },
   "outputs": [],
   "source": [
    "cam=cv2.VideoCapture(0)\n",
    "while True:\n",
    "    outfr,captur=cam.read()\n",
    "    if outfr==False:\n",
    "        break    \n",
    "    im=identify_edge(captur)\n",
    "    cv2.imshow('Output',im)\n",
    "    if cv2.waitKey(1)==13:\n",
    "        break\n",
    "cv2.destroyAllWindows()\n",
    "cam.release()"
   ]
  },
  {
   "cell_type": "markdown",
   "metadata": {},
   "source": [
    "# Camera Calibration"
   ]
  },
  {
   "cell_type": "code",
   "execution_count": null,
   "metadata": {
    "id": "YXw8qHm5X5vz",
    "scrolled": true
   },
   "outputs": [],
   "source": [
    "shp_img=(640,480)\n",
    "ret, metrx, dstn, rotavec, transvec = cv2.calibrateCamera(objarr, imgarr,shp_img,None,None)"
   ]
  },
  {
   "cell_type": "code",
   "execution_count": null,
   "metadata": {
    "id": "QXeO8xYyX5vz"
   },
   "outputs": [],
   "source": [
    "np.savez('camera_matrix',metrx=metrx,dstn=dstn)"
   ]
  },
  {
   "cell_type": "code",
   "execution_count": null,
   "metadata": {
    "id": "_KlZGdAEc3cW"
   },
   "outputs": [],
   "source": [
    "with np.load('camera_matrix.npz') as file:\n",
    "    metrx,dstn=[file[i] for i in ['metrx','dstn']]\n",
    "    "
   ]
  },
  {
   "cell_type": "code",
   "execution_count": null,
   "metadata": {
    "id": "w31vpAQCc-kT"
   },
   "outputs": [],
   "source": [
    "pointob = np.zeros((6*9,3), np.float32)\n",
    "pointob[:,:2] = np.mgrid[0:9,0:6].T.reshape(-1,2)"
   ]
  },
  {
   "cell_type": "code",
   "execution_count": null,
   "metadata": {
    "id": "3g-yjjHqdHmH"
   },
   "outputs": [],
   "source": [
    "axis = np.float32([[3,0,0], [0,3,0], [0,0,-3]]).reshape(-1,3)    \n",
    " "
   ]
  },
  {
   "cell_type": "code",
   "execution_count": null,
   "metadata": {
    "id": "src8J9TldLFL"
   },
   "outputs": [],
   "source": [
    "axis = np.float32([[0,0,0], [0,3,0], [3,3,0], [3,0,0],\n",
    "                   [0,0,-3],[0,3,-3],[3,3,-3],[3,0,-3] ])    \n"
   ]
  },
  {
   "cell_type": "markdown",
   "metadata": {},
   "source": [
    "# Draw Cube"
   ]
  },
  {
   "cell_type": "code",
   "execution_count": null,
   "metadata": {
    "id": "B4BKMX6zdQgO"
   },
   "outputs": [],
   "source": [
    "def cube_build(img, edge, imgpts):\n",
    "    imgpts = np.int32(imgpts).reshape(-1,2)\n",
    "    img = cv2.drawContours(img, [imgpts[:4]],-1,(0,255,0),3)\n",
    "    for i,j in zip(range(4),range(4,8)):\n",
    "        img = cv2.line(img, tuple(imgpts[i]), tuple(imgpts[j]),(255),3)\n",
    "    img = cv2.drawContours(img, [imgpts[4:]],-1,(0,0,255),3)\n",
    "    return img"
   ]
  },
  {
   "cell_type": "code",
   "execution_count": null,
   "metadata": {
    "id": "i_-JglaadWrh"
   },
   "outputs": [],
   "source": [
    "def construct(img, edge, imgpts):\n",
    "    corner = tuple(edge[0].ravel())\n",
    "    img = cv2.line(img, corner, tuple(imgpts[0].ravel()), (255,0,0), 5)\n",
    "    img = cv2.line(img, corner, tuple(imgpts[1].ravel()), (0,255,0), 5)\n",
    "    img = cv2.line(img, corner, tuple(imgpts[2].ravel()), (0,0,255), 5)\n",
    "    return img"
   ]
  },
  {
   "cell_type": "code",
   "execution_count": null,
   "metadata": {
    "id": "Fondia-0dYBP"
   },
   "outputs": [],
   "source": [
    "path='images/'\n",
    "root=os.getcwd()"
   ]
  },
  {
   "cell_type": "code",
   "execution_count": null,
   "metadata": {
    "colab": {
     "base_uri": "https://localhost:8080/",
     "height": 1000
    },
    "id": "4N4SqU8LdeOJ",
    "outputId": "60f124e9-5330-4750-bac3-6fb88ef7304c"
   },
   "outputs": [],
   "source": [
    "l=os.listdir(path)\n",
    "for i in l:\n",
    "    path1=os.path.join(root,path,i)\n",
    "    im=cv2.imread(path1)\n",
    "    gray=cv2.cvtColor(im,cv2.COLOR_BGR2GRAY)\n",
    "    ret,edge = cv2.findChessboardCorners(gray,(9,6),None)\n",
    "    if ret == True:\n",
    "        _,rotavec,transvec,_=cv2.solvePnPRansac(pointob,edge,metrx,dstn)\n",
    "        imgpts,_=cv2.projectPoints(axis,rotavec,transvec,metrx,dstn)\n",
    "        img = construct(im,edge,imgpts)\n",
    "        cv2_imshow(img)\n",
    "        cv2.waitKey()\n",
    "        cv2.destroyAllWindows()"
   ]
  },
  {
   "cell_type": "markdown",
   "metadata": {},
   "source": [
    "# Cube in Video"
   ]
  },
  {
   "cell_type": "code",
   "execution_count": null,
   "metadata": {
    "id": "pueTd0S0dnTn"
   },
   "outputs": [],
   "source": [
    "cam=cv2.VideoCapture(0)\n",
    "out = cv2.VideoWriter('output.avi',cv2.VideoWriter_fourcc('M','J','P','G'), 10, (int(cam.get(3)),int(cam.get(4))))\n",
    "while True:\n",
    "    outfr,captur=cam.read()\n",
    "    if outfr==False:\n",
    "        break\n",
    "    gray=cv2.cvtColor(captur,cv2.COLOR_BGR2GRAY)\n",
    "    ret,edge = cv2.findChessboardCorners(gray,(9,6),None)\n",
    "    if ret == True:\n",
    "        _,rotavec,transvec,_=cv2.solvePnPRansac(pointob,edge,metrx,dstn)\n",
    "        imgpts,_=cv2.projectPoints(axis,rotavec,transvec,metrx,dstn)\n",
    "        captur = cube_build(captur,edge,imgpts)\n",
    "    cv2.imshow('images',captur)\n",
    "    out.write(captur)\n",
    "    if cv2.waitKey(1)==13:\n",
    "        break\n",
    "        \n",
    "cv2.destroyAllWindows()\n",
    "cam.release()\n"
   ]
  },
  {
   "cell_type": "code",
   "execution_count": null,
   "metadata": {},
   "outputs": [],
   "source": []
  }
 ],
 "metadata": {
  "colab": {
   "name": "CheckerBoard.ipynb",
   "provenance": []
  },
  "kernelspec": {
   "display_name": "Python 3 (ipykernel)",
   "language": "python",
   "name": "python3"
  },
  "language_info": {
   "codemirror_mode": {
    "name": "ipython",
    "version": 3
   },
   "file_extension": ".py",
   "mimetype": "text/x-python",
   "name": "python",
   "nbconvert_exporter": "python",
   "pygments_lexer": "ipython3",
   "version": "3.9.7"
  }
 },
 "nbformat": 4,
 "nbformat_minor": 1
}
